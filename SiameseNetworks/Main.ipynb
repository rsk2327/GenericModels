{
 "cells": [
  {
   "cell_type": "code",
   "execution_count": 1,
   "metadata": {},
   "outputs": [
    {
     "name": "stderr",
     "output_type": "stream",
     "text": [
      "/usr/local/lib/python2.7/dist-packages/h5py/__init__.py:36: FutureWarning: Conversion of the second argument of issubdtype from `float` to `np.floating` is deprecated. In future, it will be treated as `np.float64 == np.dtype(float).type`.\n",
      "  from ._conv import register_converters as _register_converters\n",
      "Using TensorFlow backend.\n"
     ]
    }
   ],
   "source": [
    "import os\n",
    "import pandas as pd\n",
    "import numpy as np\n",
    "import PIL\n",
    "import matplotlib\n",
    "import matplotlib.pyplot as plt\n",
    "%matplotlib inline\n",
    "from keras.models import load_model,save_model\n",
    "from keras.callbacks import ModelCheckpoint\n",
    "from matplotlib.patches import Rectangle\n",
    "import os\n",
    "from scipy.misc import imsave\n",
    "\n",
    "import keras\n",
    "\n",
    "from keras.preprocessing.image import ImageDataGenerator, array_to_img, img_to_array, load_img\n",
    "from keras.preprocessing import image\n",
    "from keras.applications import xception\n",
    "from keras.models import Sequential, Model\n",
    "from keras.layers import Conv2D, MaxPooling2D, Input, Lambda\n",
    "from keras.layers import Activation, Dropout, Flatten, Dense\n",
    "from keras.layers import BatchNormalization\n",
    "from math import sqrt\n",
    "from keras.callbacks import History \n",
    "import gc\n",
    "from numpy.random import randint, choice\n",
    "\n",
    "import keras.backend as K"
   ]
  },
  {
   "cell_type": "code",
   "execution_count": 2,
   "metadata": {},
   "outputs": [],
   "source": [
    "from keras.preprocessing import image\n",
    "\n",
    "def read_img(filepath, size):\n",
    "    img = image.load_img((filepath), target_size=size)\n",
    "    img = image.img_to_array(img,data_format='channels_last')\n",
    "    return img"
   ]
  },
  {
   "cell_type": "code",
   "execution_count": 3,
   "metadata": {},
   "outputs": [],
   "source": [
    "input_dim = (45,45,3)\n",
    "\n",
    "basePath = \"/home/rsk/Documents/Projects/GenericModels/SiameseNetworks/Dataset\"\n",
    "trainPath = os.path.join(basePath,'Train')\n",
    "testPath = os.path.join(basePath,'Test')"
   ]
  },
  {
   "cell_type": "markdown",
   "metadata": {},
   "source": [
    "#### Superlist method 1"
   ]
  },
  {
   "cell_type": "code",
   "execution_count": 4,
   "metadata": {},
   "outputs": [],
   "source": [
    "superList = []\n",
    "\n",
    "os.chdir(trainPath)\n",
    "\n",
    "folderList = os.listdir(\"./\")\n",
    "\n",
    "for folder in folderList:\n",
    "    os.chdir(os.path.join(trainPath,folder))\n",
    "    \n",
    "    \n",
    "    imgList = os.listdir(\"./\")\n",
    "    \n",
    "    #Appending positive samples\n",
    "    for i in range(14):\n",
    "        img1 = read_img(os.path.join(trainPath,folder,imgList[i]), (45,45))\n",
    "        img2 = read_img(os.path.join(trainPath,folder,imgList[i+1]), (45,45))\n",
    "        \n",
    "        superList.append(((img1,img2),1))\n",
    "        \n",
    "    img1 = read_img(os.path.join(trainPath,folder,imgList[14]), (45,45))\n",
    "    img2 = read_img(os.path.join(trainPath,folder,imgList[0]), (45,45))\n",
    "    \n",
    "    superList.append(((img1,img2),1))\n",
    "    \n",
    "    #Appending negative samples\n",
    "    \n",
    "    for i in range(14):\n",
    "        \n",
    "        altFolder = choice(folderList)\n",
    "        while(altFolder==folder):\n",
    "            altFolder = choice(folderList)\n",
    "            \n",
    "        altImage = choice(os.listdir(os.path.join(trainPath,altFolder)))\n",
    "            \n",
    "        img1 = read_img(os.path.join(trainPath,folder,imgList[i]), (45,45))\n",
    "        img2 = read_img(os.path.join(trainPath,altFolder,altImage), (45,45))\n",
    "        \n",
    "        superList.append(((img1,img2),0))\n",
    "        \n",
    "    "
   ]
  },
  {
   "cell_type": "code",
   "execution_count": 5,
   "metadata": {},
   "outputs": [],
   "source": [
    "np.random.shuffle(superList)"
   ]
  },
  {
   "cell_type": "markdown",
   "metadata": {},
   "source": [
    "#### Superlist method2"
   ]
  },
  {
   "cell_type": "code",
   "execution_count": 93,
   "metadata": {},
   "outputs": [],
   "source": [
    "superList = []\n",
    "\n",
    "folderList = os.listdir(trainPath)\n",
    "numPairs = 1400\n"
   ]
  },
  {
   "cell_type": "code",
   "execution_count": 94,
   "metadata": {},
   "outputs": [],
   "source": [
    "# Adding positive samples\n",
    "\n",
    "for i in range(numPairs):\n",
    "    \n",
    "    folder = choice(folderList)\n",
    "    \n",
    "    imgList = choice( os.listdir(os.path.join(trainPath,folder)), 2, replace = False ) \n",
    "    \n",
    "    img1 = read_img(os.path.join(trainPath,folder,imgList[0]), (45,45))\n",
    "    img2 = read_img(os.path.join(trainPath,folder,imgList[1]), (45,45))\n",
    "    \n",
    "    superList.append(((img1,img2),1))\n",
    "    \n",
    "    "
   ]
  },
  {
   "cell_type": "code",
   "execution_count": 95,
   "metadata": {},
   "outputs": [],
   "source": [
    "# Adding negative samples\n",
    "for i in range(numPairs):\n",
    "    \n",
    "    folders = choice(folderList, 2, replace = False)\n",
    "    \n",
    "    imgList1 = choice( os.listdir(os.path.join(trainPath,folders[0]))) \n",
    "    imgList2 = choice( os.listdir(os.path.join(trainPath,folders[1]))) \n",
    "    \n",
    "    img1 = read_img(os.path.join(trainPath,folders[0],imgList1), (45,45))\n",
    "    img2 = read_img(os.path.join(trainPath,folders[1],imgList2), (45,45))\n",
    "    \n",
    "    superList.append(((img1,img2),0))"
   ]
  },
  {
   "cell_type": "code",
   "execution_count": null,
   "metadata": {},
   "outputs": [],
   "source": []
  },
  {
   "cell_type": "code",
   "execution_count": null,
   "metadata": {},
   "outputs": [],
   "source": []
  },
  {
   "cell_type": "code",
   "execution_count": null,
   "metadata": {},
   "outputs": [],
   "source": []
  },
  {
   "cell_type": "code",
   "execution_count": null,
   "metadata": {},
   "outputs": [],
   "source": []
  },
  {
   "cell_type": "code",
   "execution_count": 96,
   "metadata": {},
   "outputs": [
    {
     "name": "stdout",
     "output_type": "stream",
     "text": [
      "1\n"
     ]
    },
    {
     "data": {
      "image/png": "[encoded data removed]",
      "text/plain": [
       "<Figure size 432x288 with 2 Axes>"
      ]
     },
     "metadata": {},
     "output_type": "display_data"
    }
   ],
   "source": [
    "i=34\n",
    "\n",
    "i = choice(list(range(len(superList))))\n",
    "\n",
    "plt.subplot(211)\n",
    "plt.imshow(superList[i][0][0])\n",
    "    \n",
    "plt.subplot(212)\n",
    "plt.imshow(superList[i][0][1])\n",
    "\n",
    "print(superList[i][1])"
   ]
  },
  {
   "cell_type": "code",
   "execution_count": null,
   "metadata": {},
   "outputs": [],
   "source": []
  },
  {
   "cell_type": "code",
   "execution_count": null,
   "metadata": {},
   "outputs": [],
   "source": []
  },
  {
   "cell_type": "code",
   "execution_count": null,
   "metadata": {},
   "outputs": [],
   "source": []
  },
  {
   "cell_type": "code",
   "execution_count": null,
   "metadata": {},
   "outputs": [],
   "source": []
  },
  {
   "cell_type": "code",
   "execution_count": null,
   "metadata": {},
   "outputs": [],
   "source": []
  },
  {
   "cell_type": "code",
   "execution_count": null,
   "metadata": {},
   "outputs": [],
   "source": []
  },
  {
   "cell_type": "code",
   "execution_count": null,
   "metadata": {},
   "outputs": [],
   "source": []
  },
  {
   "cell_type": "code",
   "execution_count": null,
   "metadata": {},
   "outputs": [],
   "source": []
  },
  {
   "cell_type": "code",
   "execution_count": 7,
   "metadata": {},
   "outputs": [],
   "source": [
    "baseModel = Sequential()\n",
    "baseModel.add(BatchNormalization(input_shape = input_dim))\n",
    "baseModel.add(Conv2D(64, (3,3),activation='relu', data_format='channels_last'))\n",
    "\n",
    "baseModel.add(Dropout(0.3))\n",
    "baseModel.add(Conv2D(32, (3,3),activation='relu'))\n",
    "baseModel.add(Flatten())\n",
    "baseModel.add(Dense(256, activation='relu'))\n",
    "baseModel.add(Dense(32, activation='relu'))\n"
   ]
  },
  {
   "cell_type": "code",
   "execution_count": 8,
   "metadata": {},
   "outputs": [],
   "source": [
    "inputA = Input(shape = input_dim)\n",
    "inputB = Input(shape = input_dim)\n",
    "\n",
    "outputA = baseModel(inputA)\n",
    "outputB = baseModel(inputB)"
   ]
  },
  {
   "cell_type": "code",
   "execution_count": 9,
   "metadata": {},
   "outputs": [],
   "source": [
    "L1_layer = Lambda(lambda tensors:K.abs(tensors[0] - tensors[1]))\n",
    "L1_distance = L1_layer([outputA, outputB])\n",
    "prediction = Dense(1,activation='sigmoid')(L1_distance)\n",
    "siamese_net = Model(inputs=[inputA,inputB],outputs=prediction)\n",
    "\n",
    "siamese_net.compile(loss=\"binary_crossentropy\",optimizer='adadelta',metrics=['accuracy'])"
   ]
  },
  {
   "cell_type": "code",
   "execution_count": 10,
   "metadata": {},
   "outputs": [],
   "source": [
    "#Extracting data\n",
    "inputAimgs = np.array([x[0][0] for x in superList])\n",
    "inputBimgs = np.array([x[0][1] for x in superList])\n",
    "target = np.array([x[1] for x in superList])"
   ]
  },
  {
   "cell_type": "code",
   "execution_count": 27,
   "metadata": {},
   "outputs": [
    {
     "name": "stdout",
     "output_type": "stream",
     "text": [
      "Epoch 1/10\n",
      "870/870 [==============================] - 3s 3ms/step - loss: 0.0578 - acc: 0.9782\n",
      "Epoch 2/10\n",
      "870/870 [==============================] - 3s 3ms/step - loss: 0.0386 - acc: 0.9874\n",
      "Epoch 3/10\n",
      "870/870 [==============================] - 3s 3ms/step - loss: 0.0122 - acc: 0.9966\n",
      "Epoch 4/10\n",
      "870/870 [==============================] - 3s 3ms/step - loss: 0.0142 - acc: 0.9966\n",
      "Epoch 5/10\n",
      "870/870 [==============================] - 3s 3ms/step - loss: 0.0025 - acc: 1.0000\n",
      "Epoch 6/10\n",
      "870/870 [==============================] - 3s 3ms/step - loss: 0.0026 - acc: 0.9989\n",
      "Epoch 7/10\n",
      "870/870 [==============================] - 3s 3ms/step - loss: 9.2482e-04 - acc: 1.0000\n",
      "Epoch 8/10\n",
      "870/870 [==============================] - 3s 3ms/step - loss: 3.7850e-04 - acc: 1.0000\n",
      "Epoch 9/10\n",
      "870/870 [==============================] - 3s 3ms/step - loss: 1.8870e-04 - acc: 1.0000\n",
      "Epoch 10/10\n",
      "870/870 [==============================] - 3s 3ms/step - loss: 1.3985e-04 - acc: 1.0000\n"
     ]
    },
    {
     "data": {
      "text/plain": [
       "<keras.callbacks.History at 0x7f2dfc09b3d0>"
      ]
     },
     "execution_count": 27,
     "metadata": {},
     "output_type": "execute_result"
    }
   ],
   "source": [
    "siamese_net.fit([inputAimgs,inputBimgs], target, batch_size = 20,epochs = 10 )"
   ]
  },
  {
   "cell_type": "markdown",
   "metadata": {},
   "source": [
    "#### Testing"
   ]
  },
  {
   "cell_type": "code",
   "execution_count": 28,
   "metadata": {},
   "outputs": [
    {
     "name": "stdout",
     "output_type": "stream",
     "text": [
      "True Label : character21  Predicted Label : character06\n",
      "True Label : character21  Predicted Label : character21\n",
      "True Label : character21  Predicted Label : character03\n",
      "True Label : character21  Predicted Label : character12\n",
      "True Label : character21  Predicted Label : character19\n",
      "True Label : character23  Predicted Label : character12\n",
      "True Label : character23  Predicted Label : character14\n",
      "True Label : character23  Predicted Label : character06\n",
      "True Label : character23  Predicted Label : character29\n",
      "True Label : character23  Predicted Label : character25\n",
      "True Label : character06  Predicted Label : character06\n",
      "True Label : character06  Predicted Label : character17\n",
      "True Label : character06  Predicted Label : character04\n",
      "True Label : character06  Predicted Label : character30\n",
      "True Label : character06  Predicted Label : character28\n",
      "True Label : character14  Predicted Label : character17\n",
      "True Label : character14  Predicted Label : character14\n",
      "True Label : character14  Predicted Label : character11\n",
      "True Label : character14  Predicted Label : character12\n",
      "True Label : character14  Predicted Label : character13\n",
      "True Label : character08  Predicted Label : character07\n",
      "True Label : character08  Predicted Label : character25\n",
      "True Label : character08  Predicted Label : character23\n",
      "True Label : character08  Predicted Label : character25\n",
      "True Label : character08  Predicted Label : character14\n",
      "True Label : character03  Predicted Label : character10\n",
      "True Label : character03  Predicted Label : character20\n",
      "True Label : character03  Predicted Label : character08\n",
      "True Label : character03  Predicted Label : character15\n",
      "True Label : character03  Predicted Label : character15\n",
      "True Label : character28  Predicted Label : character04\n",
      "True Label : character28  Predicted Label : character07\n",
      "True Label : character28  Predicted Label : character17\n",
      "True Label : character28  Predicted Label : character13\n",
      "True Label : character28  Predicted Label : character09\n",
      "True Label : character04  Predicted Label : character15\n",
      "True Label : character04  Predicted Label : character17\n",
      "True Label : character04  Predicted Label : character07\n",
      "True Label : character04  Predicted Label : character20\n",
      "True Label : character04  Predicted Label : character24\n",
      "True Label : character12  Predicted Label : character29\n",
      "True Label : character12  Predicted Label : character23\n",
      "True Label : character12  Predicted Label : character16\n",
      "True Label : character12  Predicted Label : character21\n",
      "True Label : character12  Predicted Label : character07\n",
      "True Label : character25  Predicted Label : character04\n",
      "True Label : character25  Predicted Label : character23\n",
      "True Label : character25  Predicted Label : character03\n",
      "True Label : character25  Predicted Label : character03\n",
      "True Label : character25  Predicted Label : character16\n",
      "True Label : character26  Predicted Label : character25\n",
      "True Label : character26  Predicted Label : character03\n",
      "True Label : character26  Predicted Label : character24\n",
      "True Label : character26  Predicted Label : character14\n",
      "True Label : character26  Predicted Label : character20\n",
      "True Label : character22  Predicted Label : character25\n",
      "True Label : character22  Predicted Label : character22\n",
      "True Label : character22  Predicted Label : character17\n",
      "True Label : character22  Predicted Label : character04\n",
      "True Label : character22  Predicted Label : character07\n",
      "True Label : character13  Predicted Label : character08\n",
      "True Label : character13  Predicted Label : character18\n",
      "True Label : character13  Predicted Label : character05\n",
      "True Label : character13  Predicted Label : character13\n",
      "True Label : character13  Predicted Label : character14\n",
      "True Label : character16  Predicted Label : character05\n",
      "True Label : character16  Predicted Label : character23\n",
      "True Label : character16  Predicted Label : character03\n",
      "True Label : character16  Predicted Label : character29\n",
      "True Label : character16  Predicted Label : character05\n",
      "True Label : character27  Predicted Label : character27\n",
      "True Label : character27  Predicted Label : character16\n",
      "True Label : character27  Predicted Label : character23\n",
      "True Label : character27  Predicted Label : character27\n",
      "True Label : character27  Predicted Label : character27\n",
      "True Label : character15  Predicted Label : character24\n",
      "True Label : character15  Predicted Label : character25\n",
      "True Label : character15  Predicted Label : character19\n",
      "True Label : character15  Predicted Label : character04\n",
      "True Label : character15  Predicted Label : character03\n",
      "True Label : character20  Predicted Label : character04\n",
      "True Label : character20  Predicted Label : character28\n",
      "True Label : character20  Predicted Label : character03\n",
      "True Label : character20  Predicted Label : character06\n",
      "True Label : character20  Predicted Label : character23\n",
      "True Label : character18  Predicted Label : character15\n",
      "True Label : character18  Predicted Label : character14\n",
      "True Label : character18  Predicted Label : character14\n",
      "True Label : character18  Predicted Label : character25\n",
      "True Label : character18  Predicted Label : character23\n",
      "True Label : character17  Predicted Label : character17\n",
      "True Label : character17  Predicted Label : character07\n",
      "True Label : character17  Predicted Label : character22\n",
      "True Label : character17  Predicted Label : character23\n",
      "True Label : character17  Predicted Label : character17\n",
      "True Label : character24  Predicted Label : character07\n",
      "True Label : character24  Predicted Label : character15\n",
      "True Label : character24  Predicted Label : character28\n",
      "True Label : character24  Predicted Label : character24\n",
      "True Label : character24  Predicted Label : character30\n",
      "True Label : character07  Predicted Label : character23\n",
      "True Label : character07  Predicted Label : character07\n",
      "True Label : character07  Predicted Label : character30\n",
      "True Label : character07  Predicted Label : character07\n",
      "True Label : character07  Predicted Label : character24\n",
      "True Label : character10  Predicted Label : character04\n",
      "True Label : character10  Predicted Label : character10\n",
      "True Label : character10  Predicted Label : character12\n",
      "True Label : character10  Predicted Label : character04\n",
      "True Label : character10  Predicted Label : character20\n",
      "True Label : character11  Predicted Label : character13\n",
      "True Label : character11  Predicted Label : character11\n",
      "True Label : character11  Predicted Label : character12\n",
      "True Label : character11  Predicted Label : character14\n",
      "True Label : character11  Predicted Label : character27\n",
      "True Label : character01  Predicted Label : character04\n",
      "True Label : character01  Predicted Label : character22\n",
      "True Label : character01  Predicted Label : character25\n",
      "True Label : character01  Predicted Label : character07\n",
      "True Label : character01  Predicted Label : character04\n",
      "True Label : character09  Predicted Label : character14\n",
      "True Label : character09  Predicted Label : character09\n",
      "True Label : character09  Predicted Label : character12\n",
      "True Label : character09  Predicted Label : character17\n",
      "True Label : character09  Predicted Label : character24\n",
      "True Label : character30  Predicted Label : character15\n",
      "True Label : character30  Predicted Label : character23\n",
      "True Label : character30  Predicted Label : character01\n",
      "True Label : character30  Predicted Label : character23\n",
      "True Label : character30  Predicted Label : character15\n",
      "True Label : character02  Predicted Label : character17\n",
      "True Label : character02  Predicted Label : character30\n",
      "True Label : character02  Predicted Label : character06\n",
      "True Label : character02  Predicted Label : character21\n",
      "True Label : character02  Predicted Label : character24\n",
      "True Label : character19  Predicted Label : character30\n",
      "True Label : character19  Predicted Label : character06\n",
      "True Label : character19  Predicted Label : character09\n",
      "True Label : character19  Predicted Label : character01\n",
      "True Label : character19  Predicted Label : character28\n",
      "True Label : character29  Predicted Label : character12\n",
      "True Label : character29  Predicted Label : character30\n",
      "True Label : character29  Predicted Label : character05\n",
      "True Label : character29  Predicted Label : character12\n",
      "True Label : character29  Predicted Label : character17\n",
      "True Label : character05  Predicted Label : character10\n",
      "True Label : character05  Predicted Label : character18\n"
     ]
    },
    {
     "name": "stdout",
     "output_type": "stream",
     "text": [
      "True Label : character05  Predicted Label : character07\n",
      "True Label : character05  Predicted Label : character29\n",
      "True Label : character05  Predicted Label : character26\n"
     ]
    },
    {
     "ename": "IndexError",
     "evalue": "tuple index out of range",
     "output_type": "error",
     "traceback": [
      "\u001b[0;31m---------------------------------------------------------------------------\u001b[0m",
      "\u001b[0;31mIndexError\u001b[0m                                Traceback (most recent call last)",
      "\u001b[0;32m<ipython-input-28-b95731682407>\u001b[0m in \u001b[0;36m<module>\u001b[0;34m()\u001b[0m\n\u001b[1;32m     22\u001b[0m \u001b[0;34m\u001b[0m\u001b[0m\n\u001b[1;32m     23\u001b[0m \u001b[0maccuracy\u001b[0m \u001b[0;34m=\u001b[0m \u001b[0mcorrectPred\u001b[0m\u001b[0;34m/\u001b[0m\u001b[0mfloat\u001b[0m\u001b[0;34m(\u001b[0m\u001b[0mtestImageCount\u001b[0m\u001b[0;34m)\u001b[0m\u001b[0;34m\u001b[0m\u001b[0m\n\u001b[0;32m---> 24\u001b[0;31m \u001b[0;32mprint\u001b[0m\u001b[0;34m(\u001b[0m\u001b[0;34m\"Accuracy : {}\"\u001b[0m\u001b[0;34m.\u001b[0m\u001b[0mformat\u001b[0m\u001b[0;34m(\u001b[0m\u001b[0;34m)\u001b[0m\u001b[0;34m)\u001b[0m\u001b[0;34m\u001b[0m\u001b[0m\n\u001b[0m",
      "\u001b[0;31mIndexError\u001b[0m: tuple index out of range"
     ]
    }
   ],
   "source": [
    "os.chdir(testPath)\n",
    "folderList = os.listdir(\"./\")\n",
    "\n",
    "correctPred = 0\n",
    "testImageCount = 0\n",
    "\n",
    "for folder in folderList:\n",
    "    os.chdir(os.path.join(testPath,folder))\n",
    "    imgList = os.listdir(\"./\")\n",
    "    \n",
    "    for img in imgList:\n",
    "        \n",
    "        testImageCount+=1\n",
    "        supportImg = getSupportImgs(trainPath)\n",
    "        \n",
    "        img = read_img(os.path.join(testPath,folder,img), (45,45))\n",
    "        bestLabel = predictBest(img,folder,supportImg,siamese_net)\n",
    "        \n",
    "        if bestLabel == folder:\n",
    "            correctPred+=1\n",
    "        print(\"Img : {} True Label : {}  Predicted Label : {}\".format(img,folder,bestLabel))\n",
    "        \n",
    "accuracy = correctPred/float(testImageCount)\n",
    "print(\"Accuracy : {}\".format(accuracy))"
   ]
  },
  {
   "cell_type": "code",
   "execution_count": 29,
   "metadata": {},
   "outputs": [
    {
     "name": "stdout",
     "output_type": "stream",
     "text": [
      "Accuracy : 0.106666666667\n"
     ]
    }
   ],
   "source": [
    "accuracy = correctPred/float(testImageCount)\n",
    "print(\"Accuracy : {}\".format(accuracy))"
   ]
  },
  {
   "cell_type": "code",
   "execution_count": 20,
   "metadata": {},
   "outputs": [],
   "source": [
    "def getSupportImgs(path):\n",
    "    \n",
    "    supportImg=[]\n",
    "    \n",
    "    os.chdir(path)\n",
    "    folderList = os.listdir(\"./\")\n",
    "    \n",
    "    for folder in folderList:\n",
    "        os.chdir(os.path.join(path,folder))\n",
    "        imgList = os.listdir(\"./\")\n",
    "        \n",
    "        img = read_img(os.path.join(path,folder,choice(imgList)), (45,45))\n",
    "        supportImg.append([img,folder])\n",
    "        \n",
    "    return(supportImg)\n",
    "        "
   ]
  },
  {
   "cell_type": "code",
   "execution_count": 14,
   "metadata": {},
   "outputs": [],
   "source": [
    "supportImg = getSupportImgs(trainPath)"
   ]
  },
  {
   "cell_type": "code",
   "execution_count": 18,
   "metadata": {},
   "outputs": [
    {
     "data": {
      "text/plain": [
       "<matplotlib.image.AxesImage at 0x7f2a20925250>"
      ]
     },
     "execution_count": 18,
     "metadata": {},
     "output_type": "execute_result"
    },
    {
     "data": {
      "image/png": "[encoded data removed]",
      "text/plain": [
       "<Figure size 432x288 with 1 Axes>"
      ]
     },
     "metadata": {},
     "output_type": "display_data"
    }
   ],
   "source": [
    "plt.imshow(supportImg[3])"
   ]
  },
  {
   "cell_type": "code",
   "execution_count": 34,
   "metadata": {},
   "outputs": [],
   "source": [
    "def predictBest(img,label,imgS,model):\n",
    "    \n",
    "    bestPred=0.0\n",
    "    bestLabel=''\n",
    "    bestImg = 0\n",
    "    \n",
    "    plt.subplot(211)\n",
    "    plt.imshow(img)\n",
    "    \n",
    "    for i in range(len(imgSupport)):\n",
    "        pred = model.predict([img.reshape(1,45,45,3), imgSupport[i][0].reshape(1,45,45,3)])\n",
    "        print(\"label : {}  Pred : {}\".format(imgSupport[i][1], pred))\n",
    "        \n",
    "        if pred>bestPred:\n",
    "            bestPred = pred\n",
    "            bestLabel = imgSupport[i][1]\n",
    "            bestImg = imgSupport[i][0]\n",
    "    \n",
    "    plt.subplot(212)\n",
    "    plt.imshow(bestImg)\n",
    "    return(bestLabel)\n",
    "    \n",
    "    \n",
    "    "
   ]
  },
  {
   "cell_type": "code",
   "execution_count": 16,
   "metadata": {},
   "outputs": [
    {
     "data": {
      "text/plain": [
       "array([[0.503601]], dtype=float32)"
      ]
     },
     "execution_count": 16,
     "metadata": {},
     "output_type": "execute_result"
    }
   ],
   "source": [
    "siamese_net.predict([a.reshape(1,45,45,3), a.reshape(1,45,45,3)])"
   ]
  },
  {
   "cell_type": "code",
   "execution_count": 78,
   "metadata": {},
   "outputs": [],
   "source": [
    "a=read_img('/home/rsk/Documents/Projects/GenericModels/SiameseNetworks/Dataset/Test/character01/0851_16.png',(45,45))\n"
   ]
  },
  {
   "cell_type": "code",
   "execution_count": 35,
   "metadata": {
    "scrolled": true
   },
   "outputs": [
    {
     "name": "stdout",
     "output_type": "stream",
     "text": [
      "label : character21  Pred : [[0.45111015]]\n",
      "label : character23  Pred : [[1.]]\n",
      "label : character06  Pred : [[0.99287474]]\n",
      "label : character14  Pred : [[0.21940349]]\n",
      "label : character08  Pred : [[0.9975338]]\n",
      "label : character03  Pred : [[0.75633377]]\n",
      "label : character28  Pred : [[0.03379844]]\n",
      "label : character04  Pred : [[0.05747412]]\n",
      "label : character12  Pred : [[0.00017568]]\n",
      "label : character25  Pred : [[1.]]\n",
      "label : character26  Pred : [[0.9990927]]\n",
      "label : character22  Pred : [[0.00094422]]\n",
      "label : character13  Pred : [[0.99997115]]\n",
      "label : character16  Pred : [[0.9732457]]\n",
      "label : character27  Pred : [[2.1100657e-08]]\n",
      "label : character15  Pred : [[0.00029584]]\n",
      "label : character20  Pred : [[0.08792388]]\n",
      "label : character18  Pred : [[3.280949e-06]]\n",
      "label : character17  Pred : [[0.00689163]]\n",
      "label : character24  Pred : [[0.7617762]]\n",
      "label : character07  Pred : [[4.7738905e-07]]\n",
      "label : character10  Pred : [[0.95226467]]\n",
      "label : character11  Pred : [[1.5242441e-05]]\n",
      "label : character01  Pred : [[0.9955876]]\n",
      "label : character09  Pred : [[0.00024704]]\n",
      "label : character30  Pred : [[0.03431551]]\n",
      "label : character02  Pred : [[0.18315798]]\n",
      "label : character19  Pred : [[0.00018142]]\n",
      "label : character29  Pred : [[9.473856e-06]]\n",
      "label : character05  Pred : [[0.04338108]]\n"
     ]
    },
    {
     "data": {
      "text/plain": [
       "'character23'"
      ]
     },
     "execution_count": 35,
     "metadata": {},
     "output_type": "execute_result"
    },
    {
     "data": {
      "image/png": "[encoded data removed]",
      "text/plain": [
       "<Figure size 432x288 with 2 Axes>"
      ]
     },
     "metadata": {},
     "output_type": "display_data"
    }
   ],
   "source": [
    "predictBest(a,'asd',getSupportImgs(trainPath),siamese_net)"
   ]
  },
  {
   "cell_type": "code",
   "execution_count": 86,
   "metadata": {},
   "outputs": [],
   "source": [
    "def predictBestFolder(img,label,trainPath,model,numImages = 5,printList = False):\n",
    "    \n",
    "    predList = []\n",
    "    \n",
    "    folderList = sorted(os.listdir(trainPath))\n",
    "    \n",
    "    for folder in folderList:\n",
    "        \n",
    "        imgList = choice(os.listdir(os.path.join(trainPath,folder)), numImages, replace = False )\n",
    "        folderPreds = []\n",
    "        \n",
    "        for i in range(numImages):\n",
    "            folderImg = read_img(os.path.join(trainPath,folder,imgList[i]), (45,45) )\n",
    "            pred = model.predict([img.reshape(1,45,45,3), folderImg.reshape(1,45,45,3)])\n",
    "            folderPreds.append(pred)\n",
    "        \n",
    "        predList.append([folder, np.mean(folderPreds)])\n",
    "    \n",
    "    predList = sorted(predList, key = lambda x:-x[1])\n",
    "    \n",
    "    if printList == True:\n",
    "        print(predList)\n",
    "        \n",
    "    return(predList[0])\n",
    "        "
   ]
  },
  {
   "cell_type": "code",
   "execution_count": 88,
   "metadata": {},
   "outputs": [
    {
     "name": "stdout",
     "output_type": "stream",
     "text": [
      "[['character03', 0.8465592], ['character04', 0.8427508], ['character23', 0.7834415], ['character25', 0.7774849], ['character26', 0.745342], ['character30', 0.6653631], ['character17', 0.63764393], ['character08', 0.59750974], ['character10', 0.5668778], ['character06', 0.5546636], ['character01', 0.4859684], ['character29', 0.48585892], ['character15', 0.4635396], ['character07', 0.45810488], ['character28', 0.44521216], ['character24', 0.43482208], ['character21', 0.41965958], ['character16', 0.34541532], ['character19', 0.3234937], ['character09', 0.2905371], ['character20', 0.2670595], ['character12', 0.24275292], ['character02', 0.23775712], ['character22', 0.20412439], ['character05', 0.18531868], ['character13', 0.081375], ['character18', 0.054295145], ['character14', 0.01563599], ['character27', 2.6362954e-05], ['character11', 1.2893236e-06]]\n"
     ]
    },
    {
     "data": {
      "text/plain": [
       "['character03', 0.8465592]"
      ]
     },
     "execution_count": 88,
     "metadata": {},
     "output_type": "execute_result"
    }
   ],
   "source": [
    "predictBestFolder(a,'asdas',trainPath,siamese_net,15,printList=True)"
   ]
  },
  {
   "cell_type": "code",
   "execution_count": null,
   "metadata": {},
   "outputs": [],
   "source": []
  }
 ],
 "metadata": {
  "kernelspec": {
   "display_name": "Python 2",
   "language": "python",
   "name": "python2"
  },
  "language_info": {
   "codemirror_mode": {
    "name": "ipython",
    "version": 2
   },
   "file_extension": ".py",
   "mimetype": "text/x-python",
   "name": "python",
   "nbconvert_exporter": "python",
   "pygments_lexer": "ipython2",
   "version": "2.7.12"
  }
 },
 "nbformat": 4,
 "nbformat_minor": 2
}
