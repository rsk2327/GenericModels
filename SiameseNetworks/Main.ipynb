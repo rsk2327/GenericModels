{
 "cells": [
  {
   "cell_type": "code",
   "execution_count": 61,
   "metadata": {},
   "outputs": [],
   "source": [
    "import os\n",
    "import pandas as pd\n",
    "import numpy as np\n",
    "import PIL\n",
    "import matplotlib\n",
    "import matplotlib.pyplot as plt\n",
    "%matplotlib inline\n",
    "from keras.models import load_model,save_model\n",
    "from keras.callbacks import ModelCheckpoint\n",
    "from matplotlib.patches import Rectangle\n",
    "import os\n",
    "from scipy.misc import imsave\n",
    "\n",
    "import keras\n",
    "\n",
    "from keras.preprocessing.image import ImageDataGenerator, array_to_img, img_to_array, load_img\n",
    "from keras.preprocessing import image\n",
    "from keras.applications import xception\n",
    "from keras.models import Sequential, Model\n",
    "from keras.layers import Conv2D, MaxPooling2D, Input, Lambda\n",
    "from keras.layers import Activation, Dropout, Flatten, Dense\n",
    "from keras.layers import BatchNormalization\n",
    "from math import sqrt\n",
    "from keras.callbacks import History \n",
    "import gc\n",
    "from numpy.random import randint, choice\n",
    "\n",
    "import keras.backend as K"
   ]
  },
  {
   "cell_type": "code",
   "execution_count": 10,
   "metadata": {},
   "outputs": [],
   "source": [
    "from keras.preprocessing import image\n",
    "\n",
    "def read_img(filepath, size):\n",
    "    img = image.load_img((filepath), target_size=size)\n",
    "    img = image.img_to_array(img,data_format='channels_last')\n",
    "    return img"
   ]
  },
  {
   "cell_type": "code",
   "execution_count": 66,
   "metadata": {},
   "outputs": [],
   "source": [
    "input_dim = (45,45,3)\n",
    "\n",
    "basePath = \"/home/rsk/Documents/Projects/GenericModels/SiameseNetworks/Dataset\"\n",
    "trainPath = os.path.join(basePath,'Train')\n",
    "testPath = os.path.join(basePath,'Test')"
   ]
  },
  {
   "cell_type": "code",
   "execution_count": 67,
   "metadata": {},
   "outputs": [],
   "source": [
    "superList = []\n",
    "\n",
    "os.chdir(trainPath)\n",
    "\n",
    "folderList = os.listdir(\"./\")\n",
    "\n",
    "for folder in folderList:\n",
    "    os.chdir(os.path.join(trainPath,folder))\n",
    "    \n",
    "    \n",
    "    imgList = os.listdir(\"./\")\n",
    "    \n",
    "    #Appending positive samples\n",
    "    for i in range(14):\n",
    "        img1 = read_img(os.path.join(trainPath,folder,imgList[i]), (45,45))\n",
    "        img2 = read_img(os.path.join(trainPath,folder,imgList[i+1]), (45,45))\n",
    "        \n",
    "        superList.append(((img1,img2),1))\n",
    "        \n",
    "    img1 = read_img(os.path.join(trainPath,folder,imgList[14]), (45,45))\n",
    "    img2 = read_img(os.path.join(trainPath,folder,imgList[0]), (45,45))\n",
    "    \n",
    "    superList.append(((img1,img2),1))\n",
    "    \n",
    "    #Appending negative samples\n",
    "    \n",
    "    for i in range(14):\n",
    "        \n",
    "        altFolder = choice(folderList)\n",
    "        while(altFolder==folder):\n",
    "            altFolder = choice(folderList)\n",
    "            \n",
    "        altImage = choice(os.listdir(os.path.join(trainPath,altFolder)))\n",
    "            \n",
    "        img1 = read_img(os.path.join(trainPath,folder,imgList[i]), (45,45))\n",
    "        img2 = read_img(os.path.join(trainPath,altFolder,altImage), (45,45))\n",
    "        \n",
    "        superList.append(((img1,img2),0))\n",
    "        \n",
    "    "
   ]
  },
  {
   "cell_type": "code",
   "execution_count": 68,
   "metadata": {},
   "outputs": [],
   "source": [
    "np.random.shuffle(superList)"
   ]
  },
  {
   "cell_type": "code",
   "execution_count": null,
   "metadata": {},
   "outputs": [],
   "source": [
    "i=34\n",
    "\n",
    "plt.subplot(211)\n",
    "plt.imshow(superList[i][0][0])\n",
    "    \n",
    "plt.subplot(212)\n",
    "plt.imshow(superList[i][0][1])\n",
    "\n",
    "print(superList[i][1])"
   ]
  },
  {
   "cell_type": "code",
   "execution_count": null,
   "metadata": {},
   "outputs": [],
   "source": []
  },
  {
   "cell_type": "code",
   "execution_count": null,
   "metadata": {},
   "outputs": [],
   "source": []
  },
  {
   "cell_type": "code",
   "execution_count": null,
   "metadata": {},
   "outputs": [],
   "source": []
  },
  {
   "cell_type": "code",
   "execution_count": null,
   "metadata": {},
   "outputs": [],
   "source": []
  },
  {
   "cell_type": "code",
   "execution_count": 69,
   "metadata": {},
   "outputs": [],
   "source": [
    "baseModel = Sequential()\n",
    "baseModel.add(BatchNormalization(input_shape = input_dim))\n",
    "baseModel.add(Conv2D(64, (3,3),activation='relu', data_format='channels_last'))\n",
    "\n",
    "baseModel.add(Dropout(0.3))\n",
    "baseModel.add(Conv2D(32, (3,3),activation='relu'))\n",
    "baseModel.add(Flatten())\n",
    "baseModel.add(Dense(256, activation='relu'))\n",
    "baseModel.add(Dense(32, activation='relu'))\n"
   ]
  },
  {
   "cell_type": "code",
   "execution_count": 70,
   "metadata": {},
   "outputs": [],
   "source": [
    "inputA = Input(shape = input_dim)\n",
    "inputB = Input(shape = input_dim)\n",
    "\n",
    "outputA = baseModel(inputA)\n",
    "outputB = baseModel(inputB)"
   ]
  },
  {
   "cell_type": "code",
   "execution_count": 74,
   "metadata": {},
   "outputs": [],
   "source": [
    "L1_layer = Lambda(lambda tensors:K.abs(tensors[0] - tensors[1]))\n",
    "L1_distance = L1_layer([outputA, outputB])\n",
    "prediction = Dense(1,activation='sigmoid')(L1_distance)\n",
    "siamese_net = Model(inputs=[inputA,inputB],outputs=prediction)\n",
    "\n",
    "siamese_net.compile(loss=\"binary_crossentropy\",optimizer='adadelta',metrics=['accuracy'])"
   ]
  },
  {
   "cell_type": "code",
   "execution_count": 72,
   "metadata": {},
   "outputs": [],
   "source": [
    "#Extracting data\n",
    "inputAimgs = np.array([x[0][0] for x in superList])\n",
    "inputBimgs = np.array([x[0][1] for x in superList])\n",
    "target = np.array([x[1] for x in superList])"
   ]
  },
  {
   "cell_type": "code",
   "execution_count": 75,
   "metadata": {},
   "outputs": [
    {
     "name": "stdout",
     "output_type": "stream",
     "text": [
      "Epoch 1/15\n",
      "870/870 [==============================] - 3s 4ms/step - loss: 0.7167 - acc: 0.5437\n",
      "Epoch 2/15\n",
      "870/870 [==============================] - 3s 3ms/step - loss: 0.5766 - acc: 0.6954\n",
      "Epoch 3/15\n",
      "870/870 [==============================] - 3s 3ms/step - loss: 0.5153 - acc: 0.7471\n",
      "Epoch 4/15\n",
      "870/870 [==============================] - 3s 3ms/step - loss: 0.3491 - acc: 0.8437\n",
      "Epoch 5/15\n",
      "870/870 [==============================] - 3s 3ms/step - loss: 0.2516 - acc: 0.8874\n",
      "Epoch 6/15\n",
      "870/870 [==============================] - 3s 3ms/step - loss: 0.2452 - acc: 0.9000\n",
      "Epoch 7/15\n",
      "870/870 [==============================] - 3s 3ms/step - loss: 0.1088 - acc: 0.9632\n",
      "Epoch 8/15\n",
      "870/870 [==============================] - 3s 3ms/step - loss: 0.0727 - acc: 0.9736\n",
      "Epoch 9/15\n",
      "870/870 [==============================] - 3s 3ms/step - loss: 0.0522 - acc: 0.9816\n",
      "Epoch 10/15\n",
      "870/870 [==============================] - 3s 3ms/step - loss: 0.0090 - acc: 0.9977\n",
      "Epoch 11/15\n",
      "870/870 [==============================] - 3s 3ms/step - loss: 0.0138 - acc: 0.9954\n",
      "Epoch 12/15\n",
      "870/870 [==============================] - 3s 3ms/step - loss: 0.0064 - acc: 0.9977\n",
      "Epoch 13/15\n",
      "870/870 [==============================] - 3s 3ms/step - loss: 0.0022 - acc: 1.0000\n",
      "Epoch 14/15\n",
      "870/870 [==============================] - 3s 3ms/step - loss: 0.0022 - acc: 0.9989\n",
      "Epoch 15/15\n",
      "870/870 [==============================] - 3s 3ms/step - loss: 0.0224 - acc: 0.9966\n"
     ]
    },
    {
     "data": {
      "text/plain": [
       "<keras.callbacks.History at 0x7f3b28794fd0>"
      ]
     },
     "execution_count": 75,
     "metadata": {},
     "output_type": "execute_result"
    }
   ],
   "source": [
    "siamese_net.fit([inputAimgs,inputBimgs], target, batch_size = 20,epochs = 15 )"
   ]
  },
  {
   "cell_type": "code",
   "execution_count": 64,
   "metadata": {},
   "outputs": [
    {
     "name": "stdout",
     "output_type": "stream",
     "text": [
      "Help on method fit in module keras.engine.training:\n",
      "\n",
      "fit(self, x=None, y=None, batch_size=None, epochs=1, verbose=1, callbacks=None, validation_split=0.0, validation_data=None, shuffle=True, class_weight=None, sample_weight=None, initial_epoch=0, steps_per_epoch=None, validation_steps=None, **kwargs) method of keras.engine.training.Model instance\n",
      "    Trains the model for a fixed number of epochs (iterations on a dataset).\n",
      "    \n",
      "    # Arguments\n",
      "        x: Numpy array of training data (if the model has a single input),\n",
      "            or list of Numpy arrays (if the model has multiple inputs).\n",
      "            If input layers in the model are named, you can also pass a\n",
      "            dictionary mapping input names to Numpy arrays.\n",
      "            `x` can be `None` (default) if feeding from\n",
      "            framework-native tensors (e.g. TensorFlow data tensors).\n",
      "        y: Numpy array of target (label) data\n",
      "            (if the model has a single output),\n",
      "            or list of Numpy arrays (if the model has multiple outputs).\n",
      "            If output layers in the model are named, you can also pass a\n",
      "            dictionary mapping output names to Numpy arrays.\n",
      "            `y` can be `None` (default) if feeding from\n",
      "            framework-native tensors (e.g. TensorFlow data tensors).\n",
      "        batch_size: Integer or `None`.\n",
      "            Number of samples per gradient update.\n",
      "            If unspecified, `batch_size` will default to 32.\n",
      "        epochs: Integer. Number of epochs to train the model.\n",
      "            An epoch is an iteration over the entire `x` and `y`\n",
      "            data provided.\n",
      "            Note that in conjunction with `initial_epoch`,\n",
      "            `epochs` is to be understood as \"final epoch\".\n",
      "            The model is not trained for a number of iterations\n",
      "            given by `epochs`, but merely until the epoch\n",
      "            of index `epochs` is reached.\n",
      "        verbose: Integer. 0, 1, or 2. Verbosity mode.\n",
      "            0 = silent, 1 = progress bar, 2 = one line per epoch.\n",
      "        callbacks: List of `keras.callbacks.Callback` instances.\n",
      "            List of callbacks to apply during training.\n",
      "            See [callbacks](/callbacks).\n",
      "        validation_split: Float between 0 and 1.\n",
      "            Fraction of the training data to be used as validation data.\n",
      "            The model will set apart this fraction of the training data,\n",
      "            will not train on it, and will evaluate\n",
      "            the loss and any model metrics\n",
      "            on this data at the end of each epoch.\n",
      "            The validation data is selected from the last samples\n",
      "            in the `x` and `y` data provided, before shuffling.\n",
      "        validation_data: tuple `(x_val, y_val)` or tuple\n",
      "            `(x_val, y_val, val_sample_weights)` on which to evaluate\n",
      "            the loss and any model metrics at the end of each epoch.\n",
      "            The model will not be trained on this data.\n",
      "            `validation_data` will override `validation_split`.\n",
      "        shuffle: Boolean (whether to shuffle the training data\n",
      "            before each epoch) or str (for 'batch').\n",
      "            'batch' is a special option for dealing with the\n",
      "            limitations of HDF5 data; it shuffles in batch-sized chunks.\n",
      "            Has no effect when `steps_per_epoch` is not `None`.\n",
      "        class_weight: Optional dictionary mapping class indices (integers)\n",
      "            to a weight (float) value, used for weighting the loss function\n",
      "            (during training only).\n",
      "            This can be useful to tell the model to\n",
      "            \"pay more attention\" to samples from\n",
      "            an under-represented class.\n",
      "        sample_weight: Optional Numpy array of weights for\n",
      "            the training samples, used for weighting the loss function\n",
      "            (during training only). You can either pass a flat (1D)\n",
      "            Numpy array with the same length as the input samples\n",
      "            (1:1 mapping between weights and samples),\n",
      "            or in the case of temporal data,\n",
      "            you can pass a 2D array with shape\n",
      "            `(samples, sequence_length)`,\n",
      "            to apply a different weight to every timestep of every sample.\n",
      "            In this case you should make sure to specify\n",
      "            `sample_weight_mode=\"temporal\"` in `compile()`.\n",
      "        initial_epoch: Integer.\n",
      "            Epoch at which to start training\n",
      "            (useful for resuming a previous training run).\n",
      "        steps_per_epoch: Integer or `None`.\n",
      "            Total number of steps (batches of samples)\n",
      "            before declaring one epoch finished and starting the\n",
      "            next epoch. When training with input tensors such as\n",
      "            TensorFlow data tensors, the default `None` is equal to\n",
      "            the number of samples in your dataset divided by\n",
      "            the batch size, or 1 if that cannot be determined.\n",
      "        validation_steps: Only relevant if `steps_per_epoch`\n",
      "            is specified. Total number of steps (batches of samples)\n",
      "            to validate before stopping.\n",
      "    \n",
      "    # Returns\n",
      "        A `History` object. Its `History.history` attribute is\n",
      "        a record of training loss values and metrics values\n",
      "        at successive epochs, as well as validation loss values\n",
      "        and validation metrics values (if applicable).\n",
      "    \n",
      "    # Raises\n",
      "        RuntimeError: If the model was never compiled.\n",
      "        ValueError: In case of mismatch between the provided input data\n",
      "            and what the model expects.\n",
      "\n"
     ]
    }
   ],
   "source": [
    "help(siamese_net.fit)"
   ]
  }
 ],
 "metadata": {
  "kernelspec": {
   "display_name": "Python 2",
   "language": "python",
   "name": "python2"
  },
  "language_info": {
   "codemirror_mode": {
    "name": "ipython",
    "version": 2
   },
   "file_extension": ".py",
   "mimetype": "text/x-python",
   "name": "python",
   "nbconvert_exporter": "python",
   "pygments_lexer": "ipython2",
   "version": "2.7.12"
  }
 },
 "nbformat": 4,
 "nbformat_minor": 2
}
